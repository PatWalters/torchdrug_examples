{
  "nbformat": 4,
  "nbformat_minor": 0,
  "metadata": {
    "colab": {
      "name": "TorchDrug Retrosynthesis Tutorial.ipynb",
      "provenance": [],
      "collapsed_sections": [],
      "include_colab_link": true
    },
    "kernelspec": {
      "name": "python3",
      "display_name": "Python 3"
    },
    "language_info": {
      "name": "python"
    },
    "accelerator": "GPU"
  },
  "cells": [
    {
      "cell_type": "markdown",
      "metadata": {
        "id": "view-in-github",
        "colab_type": "text"
      },
      "source": [
        "<a href=\"https://colab.research.google.com/github/PatWalters/torchdrug_examples/blob/main/TorchDrug_Retrosynthesis_Tutorial.ipynb\" target=\"_parent\"><img src=\"https://colab.research.google.com/assets/colab-badge.svg\" alt=\"Open In Colab\"/></a>"
      ]
    },
    {
      "cell_type": "markdown",
      "metadata": {
        "id": "GQPnwWiVdZ1p"
      },
      "source": [
        "### Introduction\n",
        "\n",
        "Retrosynthesis is a fundamental task in drug discovery. Given a target molecule, the goal of retrosynthesis is to identify a set of reactants that can produce the target.\n",
        "\n",
        "In this example, we will show how to predict retrosynthesis using G2Gs framework. G2Gs first identifies the reaction centers, i.e., bonds generated in the product. Based on the reaction centers, the product is broken into several synthons and each synthon is translated to a reactant.\n",
        "\n",
        "### Manual Steps\n",
        "\n",
        "1.   Get your own copy of this file via \"File > Save a copy in Drive...\",\n",
        "2.   Set the runtime to **GPU** via \"Runtime > Change runtime type...\"\n",
        "\n",
        "### Colab Tutorials\n",
        "\n",
        "#### Quick Start\n",
        "1. [Basic Usage and Pipeline](https://colab.research.google.com/drive/1Tbnr1Fog_YjkqU1MOhcVLuxqZ4DC-c8-#forceEdit=true&sandboxMode=true)\n",
        "\n",
        "#### Drug Discovery Tasks\n",
        "1. [Property Prediction](https://colab.research.google.com/drive/1sb2w3evdEWm-GYo28RksvzJ74p63xHMn?usp=sharing#forceEdit=true&sandboxMode=true)\n",
        "2. [Pretrained Molecular Representations](https://colab.research.google.com/drive/10faCIVIfln20f2h1oQk2UrXiAMqZKLoW?usp=sharing#forceEdit=true&sandboxMode=true)\n",
        "3. [De no vo Molecule Design](https://colab.research.google.com/drive/1JEMiMvSBuqCuzzREYpviNZZRVOYsgivA?usp=sharing#forceEdit=true&sandboxMode=true)\n",
        "4. [Retrosynthesis](https://colab.research.google.com/drive/1IH1hk7K3MaxAEe5m6CFY7Eyej3RuiEL1?usp=sharing#forceEdit=true&sandboxMode=true)\n",
        "5. [Knowledge Graph Reasoning](https://colab.research.google.com/drive/1-sjqQZhYrGM0HiMuaqXOiqhDNlJi7g_I?usp=sharing#forceEdit=true&sandboxMode=true)"
      ]
    },
    {
      "cell_type": "code",
      "metadata": {
        "id": "CpM2xMHNyPlr",
        "colab": {
          "base_uri": "https://localhost:8080/"
        },
        "outputId": "c0b138ec-c44e-4dd4-8862-81314ae3185b"
      },
      "source": [
        "import os\n",
        "import torch\n",
        "os.environ[\"TORCH_VERSION\"] = torch.__version__\n",
        "\n",
        "!pip install torch-scatter -f https://pytorch-geometric.com/whl/torch-$TORCH_VERSION.html\n",
        "!pip install torchdrug"
      ],
      "execution_count": null,
      "outputs": [
        {
          "output_type": "stream",
          "name": "stdout",
          "text": [
            "Looking in links: https://pytorch-geometric.com/whl/torch-1.9.0+cu111.html\n",
            "Collecting torch-scatter\n",
            "  Downloading https://data.pyg.org/whl/torch-1.9.0%2Bcu111/torch_scatter-2.0.8-cp37-cp37m-linux_x86_64.whl (10.4 MB)\n",
            "\u001b[K     |████████████████████████████████| 10.4 MB 3.8 MB/s \n",
            "\u001b[?25hInstalling collected packages: torch-scatter\n",
            "Successfully installed torch-scatter-2.0.8\n",
            "Collecting torchdrug\n",
            "  Downloading torchdrug-0.1.2-py3-none-any.whl (191 kB)\n",
            "\u001b[K     |████████████████████████████████| 191 kB 4.3 MB/s \n",
            "\u001b[?25hCollecting ninja\n",
            "  Downloading ninja-1.10.2.2-py2.py3-none-manylinux_2_5_x86_64.manylinux1_x86_64.whl (108 kB)\n",
            "\u001b[K     |████████████████████████████████| 108 kB 30.1 MB/s \n",
            "\u001b[?25hRequirement already satisfied: matplotlib in /usr/local/lib/python3.7/dist-packages (from torchdrug) (3.2.2)\n",
            "Requirement already satisfied: jinja2 in /usr/local/lib/python3.7/dist-packages (from torchdrug) (2.11.3)\n",
            "Requirement already satisfied: decorator in /usr/local/lib/python3.7/dist-packages (from torchdrug) (4.4.2)\n",
            "Requirement already satisfied: numpy>=1.11 in /usr/local/lib/python3.7/dist-packages (from torchdrug) (1.19.5)\n",
            "Requirement already satisfied: torch>=1.4.0 in /usr/local/lib/python3.7/dist-packages (from torchdrug) (1.9.0+cu111)\n",
            "Requirement already satisfied: networkx in /usr/local/lib/python3.7/dist-packages (from torchdrug) (2.6.3)\n",
            "Requirement already satisfied: tqdm in /usr/local/lib/python3.7/dist-packages (from torchdrug) (4.62.3)\n",
            "Requirement already satisfied: torch-scatter>=1.4.0 in /usr/local/lib/python3.7/dist-packages (from torchdrug) (2.0.8)\n",
            "Collecting rdkit-pypi\n",
            "  Downloading rdkit_pypi-2021.3.5.1-cp37-cp37m-manylinux_2_17_x86_64.manylinux2014_x86_64.whl (19.7 MB)\n",
            "\u001b[K     |████████████████████████████████| 19.7 MB 5.4 MB/s \n",
            "\u001b[?25hRequirement already satisfied: typing-extensions in /usr/local/lib/python3.7/dist-packages (from torch>=1.4.0->torchdrug) (3.7.4.3)\n",
            "Requirement already satisfied: MarkupSafe>=0.23 in /usr/local/lib/python3.7/dist-packages (from jinja2->torchdrug) (2.0.1)\n",
            "Requirement already satisfied: cycler>=0.10 in /usr/local/lib/python3.7/dist-packages (from matplotlib->torchdrug) (0.10.0)\n",
            "Requirement already satisfied: python-dateutil>=2.1 in /usr/local/lib/python3.7/dist-packages (from matplotlib->torchdrug) (2.8.2)\n",
            "Requirement already satisfied: pyparsing!=2.0.4,!=2.1.2,!=2.1.6,>=2.0.1 in /usr/local/lib/python3.7/dist-packages (from matplotlib->torchdrug) (2.4.7)\n",
            "Requirement already satisfied: kiwisolver>=1.0.1 in /usr/local/lib/python3.7/dist-packages (from matplotlib->torchdrug) (1.3.2)\n",
            "Requirement already satisfied: six in /usr/local/lib/python3.7/dist-packages (from cycler>=0.10->matplotlib->torchdrug) (1.15.0)\n",
            "Installing collected packages: rdkit-pypi, ninja, torchdrug\n",
            "Successfully installed ninja-1.10.2.2 rdkit-pypi-2021.3.5.1 torchdrug-0.1.2\n"
          ]
        }
      ]
    },
    {
      "cell_type": "markdown",
      "metadata": {
        "id": "BFmpTG8ccZQJ"
      },
      "source": [
        "# Prepare the Dataset (~8 min)\n",
        "We use the standard USPTO50k dataset. This dataset contains 50k molecules and their synthesis pathways.\n",
        "\n",
        "First, let’s download and load the dataset. This may take a while.\n",
        "\n",
        "There are two modes to load the dataset. The reaction mode loads the dataset as (reactants, product) pairs, which is used for center identification. The synthon mode loads the dataset as (reactant, synthon) pairs, which is used for synthon completion.\n"
      ]
    },
    {
      "cell_type": "code",
      "metadata": {
        "id": "Xb8oU4BZUCmu"
      },
      "source": [
        "from torchdrug import datasets, data\n",
        "\n",
        "reaction_dataset = datasets.USPTO50k(\"~/molecule-datasets/\",\n",
        "                                     node_feature=\"center_identification\",\n",
        "                                     kekulize=True)\n",
        "synthon_dataset = datasets.USPTO50k(\"~/molecule-datasets/\", as_synthon=True,\n",
        "                                    node_feature=\"synthon_completion\",\n",
        "                                    kekulize=True)"
      ],
      "execution_count": null,
      "outputs": []
    },
    {
      "cell_type": "markdown",
      "metadata": {
        "id": "9X0nSAoGUNBl"
      },
      "source": [
        "Then we visualize some samples from the dataset. For the reaction dataset, we can split reactant and product graphs into individual molecules using connected_components(). Note USPTO50k ignores all non-target products, so there is only one product on the right hand side.\n",
        "\n"
      ]
    },
    {
      "cell_type": "code",
      "metadata": {
        "id": "PYuCkxBGUPgQ"
      },
      "source": [
        "from IPython.display import display, Image\n",
        "import torch\n",
        "from torchdrug.utils import plot\n",
        "\n",
        "for i in range(2):\n",
        "    sample = reaction_dataset[i]\n",
        "    reactant, product = sample[\"graph\"]\n",
        "    reactants = reactant.connected_components()[0]\n",
        "    products = product.connected_components()[0]\n",
        "    save_file = \"reaction_%d.png\" % i\n",
        "    plot.reaction(reactants, products, save_file=save_file)\n",
        "    display(Image(filename=save_file, height=150))"
      ],
      "execution_count": null,
      "outputs": []
    },
    {
      "cell_type": "markdown",
      "metadata": {
        "id": "ZnldvrV8ddDk"
      },
      "source": [
        "Here are the corresponding samples in the synthon dataset.\n",
        "\n"
      ]
    },
    {
      "cell_type": "code",
      "metadata": {
        "id": "Txc1o868derw"
      },
      "source": [
        "for i in range(3):\n",
        "    sample = synthon_dataset[i]\n",
        "    reactant, synthon = sample[\"graph\"]\n",
        "    save_file = \"synthon_%d.png\" % i\n",
        "    plot.reaction([reactant], [synthon], save_file=save_file)\n",
        "    display(Image(filename=save_file, height=150))"
      ],
      "execution_count": null,
      "outputs": []
    },
    {
      "cell_type": "markdown",
      "metadata": {
        "id": "etF_eznadgaE"
      },
      "source": [
        "To ensure the same split is used by both datasets, we can set the random seed before calling split().\n",
        "\n"
      ]
    },
    {
      "cell_type": "code",
      "metadata": {
        "id": "J7TR1YBjdiwB"
      },
      "source": [
        "torch.manual_seed(1)\n",
        "reaction_train, reaction_valid, reaction_test = reaction_dataset.split()\n",
        "torch.manual_seed(1)\n",
        "synthon_train, synthon_valid, synthon_test = synthon_dataset.split()"
      ],
      "execution_count": null,
      "outputs": []
    },
    {
      "cell_type": "markdown",
      "metadata": {
        "id": "htz21au8cubx"
      },
      "source": [
        "# Center Identification\n",
        "\n",
        "Now we define our model. We use a Relational Graph Convolutional Network (RGCN) as our representation model, and wrap it for the center identification task. Note other graph representation learning models can also be used here.\n"
      ]
    },
    {
      "cell_type": "code",
      "metadata": {
        "id": "kq14KIdFUFtQ"
      },
      "source": [
        "from torchdrug import core, models, tasks\n",
        "\n",
        "reaction_model = models.RGCN(input_dim=reaction_dataset.node_feature_dim,\n",
        "                    hidden_dims=[256, 256, 256, 256, 256, 256],\n",
        "                    num_relation=reaction_dataset.num_bond_type,\n",
        "                    concat_hidden=True)\n",
        "reaction_task = tasks.CenterIdentification(reaction_model,\n",
        "                                           feature=(\"graph\", \"atom\", \"bond\"))"
      ],
      "execution_count": null,
      "outputs": []
    },
    {
      "cell_type": "code",
      "metadata": {
        "id": "tNHIF9GFdoaH"
      },
      "source": [
        "reaction_optimizer = torch.optim.Adam(reaction_task.parameters(), lr=1e-3)\n",
        "reaction_solver = core.Engine(reaction_task, reaction_train, reaction_valid,\n",
        "                              reaction_test, reaction_optimizer,\n",
        "                              gpus=[0], batch_size=128)\n",
        "reaction_solver.train(num_epoch=10)\n",
        "reaction_solver.evaluate(\"valid\")\n",
        "reaction_solver.save(\"g2gs_reaction_model.pth\")"
      ],
      "execution_count": null,
      "outputs": []
    },
    {
      "cell_type": "markdown",
      "metadata": {
        "id": "lWtALUwtdp-q"
      },
      "source": [
        "We can show some predictions from our model. For diversity, we collect samples from 4 different reaction types.\n",
        "\n"
      ]
    },
    {
      "cell_type": "code",
      "metadata": {
        "id": "s2EgiI8WdsQC"
      },
      "source": [
        "from torchdrug import utils\n",
        "\n",
        "batch = []\n",
        "reaction_set = set()\n",
        "for sample in reaction_valid:\n",
        "    if sample[\"reaction\"] not in reaction_set:\n",
        "        reaction_set.add(sample[\"reaction\"])\n",
        "        batch.append(sample)\n",
        "        if len(batch) == 4:\n",
        "            break\n",
        "batch = data.graph_collate(batch)\n",
        "batch = utils.cuda(batch)\n",
        "result = reaction_task.predict_synthon(batch)"
      ],
      "execution_count": null,
      "outputs": []
    },
    {
      "cell_type": "markdown",
      "metadata": {
        "id": "nEmq03VZduOG"
      },
      "source": [
        "The following code visualizes the ground truths as well as our predictions on the samples. We use blue for ground truths, red for wrong predictions, and purple for correct predictions.\n",
        "\n"
      ]
    },
    {
      "cell_type": "code",
      "metadata": {
        "id": "DCXKQw0Bdvfd"
      },
      "source": [
        "def atoms_and_bonds(molecule, reaction_center):\n",
        "    is_reaction_atom = (molecule.atom_map > 0) & \\\n",
        "                       (molecule.atom_map.unsqueeze(-1) == \\\n",
        "                        reaction_center.unsqueeze(0)).any(dim=-1)\n",
        "    node_in, node_out = molecule.edge_list.t()[:2]\n",
        "    edge_map = molecule.atom_map[molecule.edge_list[:, :2]]\n",
        "    is_reaction_bond = (edge_map > 0).all(dim=-1) & \\\n",
        "                       (edge_map == reaction_center.unsqueeze(0)).all(dim=-1)\n",
        "    atoms = is_reaction_atom.nonzero().flatten().tolist()\n",
        "    bonds = is_reaction_bond[node_in < node_out].nonzero().flatten().tolist()\n",
        "    return atoms, bonds\n",
        "\n",
        "products = batch[\"graph\"][1]\n",
        "reaction_centers = result[\"reaction_center\"]\n",
        "\n",
        "for i, product in enumerate(products):\n",
        "    true_atoms, true_bonds = atoms_and_bonds(product, product.reaction_center)\n",
        "    true_atoms, true_bonds = set(true_atoms), set(true_bonds)\n",
        "    pred_atoms, pred_bonds = atoms_and_bonds(product, reaction_centers[i])\n",
        "    pred_atoms, pred_bonds = set(pred_atoms), set(pred_bonds)\n",
        "    overlap_atoms = true_atoms.intersection(pred_atoms)\n",
        "    overlap_bonds = true_bonds.intersection(pred_bonds)\n",
        "    atoms = true_atoms.union(pred_atoms)\n",
        "    bonds = true_bonds.union(pred_bonds)\n",
        "\n",
        "    red = (1, 0.5, 0.5)\n",
        "    blue = (0.5, 0.5, 1)\n",
        "    purple = (1, 0.5, 1)\n",
        "    atom_colors = {}\n",
        "    bond_colors = {}\n",
        "    for atom in atoms:\n",
        "        if atom in overlap_atoms:\n",
        "            atom_colors[atom] = purple\n",
        "        elif atom in pred_atoms:\n",
        "            atom_colors[atom] = red\n",
        "        else:\n",
        "            atom_colors[atom] = blue\n",
        "    for bond in bonds:\n",
        "        if bond in overlap_bonds:\n",
        "            bond_colors[bond] = purple\n",
        "        elif bond in pred_bonds:\n",
        "            bond_colors[bond] = red\n",
        "        else:\n",
        "            bond_colors[bond] = blue\n",
        "\n",
        "    save_file = \"center_prediction_%d.png\" % i\n",
        "    plot.highlight(product, atoms, bonds, atom_colors, bond_colors,\n",
        "                   save_file=save_file)\n",
        "    display(Image(filename=save_file, height=150))"
      ],
      "execution_count": null,
      "outputs": []
    },
    {
      "cell_type": "markdown",
      "metadata": {
        "id": "IyyIQIrAc0wN"
      },
      "source": [
        "# Synthon Completion\n",
        "Similarly, we train a synthon completion model on the synthon dataset.\n",
        "\n"
      ]
    },
    {
      "cell_type": "code",
      "metadata": {
        "id": "rfWxU6j5b9rM"
      },
      "source": [
        "synthon_model = models.RGCN(input_dim=synthon_dataset.node_feature_dim,\n",
        "                            hidden_dims=[256, 256, 256, 256, 256, 256],\n",
        "                            num_relation=synthon_dataset.num_bond_type,\n",
        "                            concat_hidden=True)\n",
        "synthon_task = tasks.SynthonCompletion(synthon_model, feature=(\"graph\",))\n",
        "\n",
        "synthon_optimizer = torch.optim.Adam(synthon_task.parameters(), lr=1e-3)\n",
        "synthon_solver = core.Engine(synthon_task, synthon_train, synthon_valid,\n",
        "                             synthon_test, synthon_optimizer,\n",
        "                             gpus=[0], batch_size=128)\n",
        "synthon_solver.train(num_epoch=1)\n",
        "synthon_solver.evaluate(\"valid\")\n",
        "synthon_solver.save(\"g2gs_synthon_model.pth\")"
      ],
      "execution_count": null,
      "outputs": []
    },
    {
      "cell_type": "markdown",
      "metadata": {
        "id": "Wx0udm7IemPn"
      },
      "source": [
        "We then perform beam search to generate reactant candidates.\n",
        "\n"
      ]
    },
    {
      "cell_type": "code",
      "metadata": {
        "id": "GYwFJlGAcQC-"
      },
      "source": [
        "%matplotlib inline\n",
        "\n",
        "batch = []\n",
        "reaction_set = set()\n",
        "for sample in synthon_valid:\n",
        "    if sample[\"reaction\"] not in reaction_set:\n",
        "        reaction_set.add(sample[\"reaction\"])\n",
        "        batch.append(sample)\n",
        "        if len(batch) == 4:\n",
        "            break\n",
        "batch = data.graph_collate(batch)\n",
        "batch = utils.cuda(batch)\n",
        "reactants, synthons = batch[\"graph\"]\n",
        "reactants = reactants.ion_to_molecule()\n",
        "predictions = synthon_task.predict_reactant(batch, num_beam=10, max_prediction=5)\n",
        "\n",
        "synthon_id = -1\n",
        "i = 0\n",
        "titles = []\n",
        "graphs = []\n",
        "for prediction in predictions:\n",
        "    if synthon_id != prediction.synthon_id:\n",
        "        synthon_id = prediction.synthon_id.item()\n",
        "        i = 0\n",
        "        graphs.append(reactants[synthon_id])\n",
        "        titles.append(\"Truth %d\" % synthon_id)\n",
        "    i += 1\n",
        "    graphs.append(prediction)\n",
        "    if reactants[synthon_id] == prediction:\n",
        "        titles.append(\"Prediction %d-%d, Correct!\" % (synthon_id, i))\n",
        "    else:\n",
        "        titles.append(\"Prediction %d-%d\" % (synthon_id, i))\n",
        "\n",
        "# reset attributes so that pack can work properly\n",
        "mols = [graph.to_molecule() for graph in graphs]\n",
        "graphs = data.PackedMolecule.from_molecule(mols)\n",
        "graphs.visualize(titles, save_file=\"uspto50k_synthon_valid.png\", num_col=6)"
      ],
      "execution_count": null,
      "outputs": []
    },
    {
      "cell_type": "markdown",
      "metadata": {
        "id": "gN8hLW7vd-Td"
      },
      "source": [
        "For each row in the visualization, the first molecule corresponds to the ground truth. The rest molecules are candidates from beam search, ordered by their log likelihood. We can see that our model can recall ground truth in top-5 predictions for most samples.\n",
        "\n"
      ]
    },
    {
      "cell_type": "markdown",
      "metadata": {
        "id": "SnQbzV4Hd-k0"
      },
      "source": [
        "# Retrosynthesis\n",
        "\n",
        "Given the trained models, we can combine them into an end2end pipeline for retrosynthesis. This is done by wrapping the two sub tasks with a retrosynthesis task.\n",
        "\n",
        "The pipeline will perform beam search over all possible combinations between the predictions from two sub tasks. For demonstration, we use a small beam size and only evaluate on a subset of the validation set. Note the results will be better if we give more budget to the beam search."
      ]
    },
    {
      "cell_type": "code",
      "metadata": {
        "id": "CGPZhPl4eA9b"
      },
      "source": [
        "from torch.utils import data as torch_data\n",
        "\n",
        "lengths = [len(reaction_valid) // 10,\n",
        "           len(reaction_valid) - len(reaction_valid) // 10]\n",
        "reaction_valid_small = torch_data.random_split(reaction_valid, lengths)[0]\n",
        "\n",
        "reaction_task.preprocess(reaction_train, None, None)\n",
        "synthon_task.preprocess(synthon_train, None, None)\n",
        "task = tasks.Retrosynthesis(reaction_task, synthon_task, center_topk=2, num_synthon_beam=5,\n",
        "                            max_prediction=10)\n",
        "optimizer = torch.optim.Adam(task.parameters(), lr=1e-3)\n",
        "solver = core.Engine(task, reaction_train, reaction_valid_small, reaction_test,\n",
        "                     optimizer, gpus=[0], batch_size=32)"
      ],
      "execution_count": null,
      "outputs": []
    },
    {
      "cell_type": "markdown",
      "metadata": {
        "id": "dka-opvSeCci"
      },
      "source": [
        "To load parameters two sub tasks, we just load each checkpoint. Note load_optimizer should be set to False to avoid conflicts.\n",
        "\n"
      ]
    },
    {
      "cell_type": "code",
      "metadata": {
        "id": "GecUK30QeDkI"
      },
      "source": [
        "solver.load(\"g2gs_reaction_model.pth\", load_optimizer=False)\n",
        "solver.load(\"g2gs_synthon_model.pth\", load_optimizer=False)\n",
        "solver.evaluate(\"valid\")"
      ],
      "execution_count": null,
      "outputs": []
    },
    {
      "cell_type": "markdown",
      "metadata": {
        "id": "nrHdrVqeeFm4"
      },
      "source": [
        "Here are the top-1 predictions for samples in the validation set.\n",
        "\n"
      ]
    },
    {
      "cell_type": "code",
      "metadata": {
        "id": "yxDkhuWfeG5e"
      },
      "source": [
        "batch = []\n",
        "reaction_set = set()\n",
        "for sample in reaction_valid:\n",
        "    if sample[\"reaction\"] not in reaction_set:\n",
        "        reaction_set.add(sample[\"reaction\"])\n",
        "        batch.append(sample)\n",
        "        if len(batch) == 4:\n",
        "            break\n",
        "batch = data.graph_collate(batch)\n",
        "batch = utils.cuda(batch)\n",
        "predictions, num_prediction = task.predict(batch)\n",
        "\n",
        "products = batch[\"graph\"][1]\n",
        "top1_index = num_prediction.cumsum(0) - num_prediction\n",
        "for i in range(len(products)):\n",
        "    reactant = predictions[top1_index[i]].connected_components()[0]\n",
        "    product = products[i].connected_components()[0]\n",
        "    save_file = \"reaction_prediction_%d.png\" % i\n",
        "    plot.reaction(reactant, product, save_file=save_file)\n",
        "    display(Image(filename=save_file, height=150))"
      ],
      "execution_count": null,
      "outputs": []
    }
  ]
}